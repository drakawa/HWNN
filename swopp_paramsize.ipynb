{
 "cells": [
  {
   "cell_type": "code",
   "execution_count": 1,
   "metadata": {},
   "outputs": [],
   "source": [
    "import numpy as np\n",
    "\n",
    "import subprocess\n",
    "import pickle\n",
    "import itertools as it\n",
    "import os\n",
    "import pandas as pd\n",
    "\n",
    "from collections import defaultdict\n",
    "from collections import defaultdict as dd\n",
    "\n",
    "import matplotlib.pyplot as plt\n",
    "import matplotlib.scale as mscale\n",
    "import matplotlib.transforms as mtransforms\n",
    "import matplotlib.ticker as ticker\n",
    "\n",
    "import subprocess"
   ]
  },
  {
   "cell_type": "markdown",
   "metadata": {},
   "source": [
    "```sh\n",
    "$ python main_cifar10.py -n rwnn -g 2dtorus -s 1 -m param\n",
    "```"
   ]
  },
  {
   "cell_type": "code",
   "execution_count": 8,
   "metadata": {},
   "outputs": [
    {
     "name": "stdout",
     "output_type": "stream",
     "text": [
      "4697364\n",
      "[34910730]\n",
      "[4394410, 4494873, 4392860, 4444648, 4306904, 4444642, 4394420, 4407359, 4468984, 4268059]\n"
     ]
    }
   ],
   "source": [
    "def run_script(run_script = \"python main_cifar10.py -n rwnn -g 2dtorus -s 1 -m param\"):\n",
    "    proc = subprocess.run(run_script.split(), encoding=\"utf-8\", stdout=subprocess.PIPE)\n",
    "    stdout = proc.stdout.split()\n",
    "    return int(stdout[-1])\n",
    "\n",
    "print(run_script())\n",
    "\n",
    "resnet_param, torus_param, ws_param, symsa_param = [list() for _ in range(4)]\n",
    "\n",
    "resnet_script = \"python main_cifar10.py -n resnet50 -m param\"\n",
    "torus_script = \"python main_cifar10.py -n rwnn -g 2dtorus -s 1 -m param\"\n",
    "ws_script_base = \"python main_cifar10.py -n rwnn -g ws -s %d -m param\"\n",
    "symsa_script_base = \"python main_cifar10.py -n rwnn -g symsa -s %d -m param\"\n",
    "\n",
    "resnet_param.append(run_script(resnet_script))\n",
    "torus_param.append(run_script(torus_script))\n",
    "\n",
    "for i in range(1,11):\n",
    "    ws_param.append(run_script(ws_script_base % i))\n",
    "    symsa_param.append(run_script(symsa_script_base % i))\n",
    "print(resnet_param)\n",
    "print(ws_param)\n"
   ]
  },
  {
   "cell_type": "code",
   "execution_count": 13,
   "metadata": {},
   "outputs": [
    {
     "name": "stdout",
     "output_type": "stream",
     "text": [
      "resnet\tws\ttorus\tsymsa\n",
      "34910730\t4401716\t4697364\t4359770\n",
      "0.8751166274666843\n"
     ]
    }
   ],
   "source": [
    "print(\"resnet\\tws\\ttorus\\tsymsa\")\n",
    "print(\"%d\\t%d\\t%d\\t%d\" % (int(round(np.average(resnet_param))), int(round(np.average(ws_param))), int(round(np.average(torus_param))), int(round(np.average(symsa_param)))))\n",
    "\n",
    "print(1.0 - np.average(symsa_param) / np.average(resnet_param))"
   ]
  },
  {
   "cell_type": "code",
   "execution_count": null,
   "metadata": {},
   "outputs": [],
   "source": []
  }
 ],
 "metadata": {
  "kernelspec": {
   "display_name": "Python 3.9.12 ('g-gear')",
   "language": "python",
   "name": "python3"
  },
  "language_info": {
   "codemirror_mode": {
    "name": "ipython",
    "version": 3
   },
   "file_extension": ".py",
   "mimetype": "text/x-python",
   "name": "python",
   "nbconvert_exporter": "python",
   "pygments_lexer": "ipython3",
   "version": "3.9.12"
  },
  "orig_nbformat": 4,
  "vscode": {
   "interpreter": {
    "hash": "3821650dd771f723b217192a2ec0b4cb8a6998972757b1316f516a83a8893aef"
   }
  }
 },
 "nbformat": 4,
 "nbformat_minor": 2
}
